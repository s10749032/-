{
 "cells": [
  {
   "cell_type": "code",
   "execution_count": 1,
   "id": "5f3330f2",
   "metadata": {},
   "outputs": [
    {
     "data": {
      "text/plain": [
       "'1.2.4'"
      ]
     },
     "execution_count": 1,
     "metadata": {},
     "output_type": "execute_result"
    }
   ],
   "source": [
    "import pandas as pd\n",
    "pd.__version__"
   ]
  },
  {
   "cell_type": "code",
   "execution_count": 2,
   "id": "e882d069",
   "metadata": {},
   "outputs": [
    {
     "name": "stdout",
     "output_type": "stream",
     "text": [
      "a    2\n",
      "b    1\n",
      "c    7\n",
      "d    3\n",
      "dtype: int64\n",
      "=========================\n",
      "1\n"
     ]
    }
   ],
   "source": [
    "# 引入 pandas 套件，使用別名 pd 可以少打字\n",
    "import pandas as pd\n",
    "\n",
    "# 建立 Series 物件，傳入 list 當作參數\n",
    "series_1=pd.Series([2,1,7,3],index=['a','b','c','d'])\n",
    "\n",
    "print(series_1)\n",
    "print(\"=========================\")\n",
    "print(series_1['b'])"
   ]
  },
  {
   "cell_type": "code",
   "execution_count": 14,
   "id": "3fc7dd63",
   "metadata": {},
   "outputs": [
    {
     "name": "stdout",
     "output_type": "stream",
     "text": [
      "  name               email  grades-chinese  grades-english\n",
      "0  王小郭       min@gmail.com              60              75\n",
      "1  張小華    hchang@gmail.com              77              60\n",
      "2  廖丁丁  laioding@gmail.com              92              80\n",
      "3  丁小光  hsulight@gmail.com              43              70\n",
      "=============================\n",
      "篩選math大於80的資料集\n",
      "  name               email  grades-chinese  grades-english\n",
      "1  張小華    hchang@gmail.com              77              60\n",
      "2  廖丁丁  laioding@gmail.com              92              80\n",
      "=================================\n",
      "篩選name欄位'廖丁丁'\n",
      "  name               email  grades-chinese  grades-english\n",
      "2  廖丁丁  laioding@gmail.com              92              80\n",
      "=================================\n",
      "篩選name欄位包含'小'\n",
      "  name               email  grades-chinese  grades-english\n",
      "0  王小郭       min@gmail.com              60              75\n",
      "1  張小華    hchang@gmail.com              77              60\n",
      "3  丁小光  hsulight@gmail.com              43              70\n",
      "=================================\n",
      "英文成績-遞減排序\n",
      "  name               email  grades-chinese  grades-english\n",
      "2  廖丁丁  laioding@gmail.com              92              80\n",
      "0  王小郭       min@gmail.com              60              75\n",
      "3  丁小光  hsulight@gmail.com              43              70\n",
      "1  張小華    hchang@gmail.com              77              60\n"
     ]
    }
   ],
   "source": [
    "# 引入 pandas 套件，使用別名 pd 可以少打字\n",
    "import pandas as pd\n",
    "\n",
    "# 準備傳入 \n",
    "data = {\n",
    "    'name': ['王小郭', '張小華', '廖丁丁', '丁小光'],\n",
    "    'email': ['min@gmail.com', 'hchang@gmail.com', 'laioding@gmail.com', 'hsulight@gmail.com'],\n",
    "    'grades-chinese': [60, 77, 92, 43],\n",
    "    'grades-english': [75, 60, 80, 70]\n",
    "}\n",
    "\n",
    "# 建立 DataFrame 物件\n",
    "student_df = pd.DataFrame(data)\n",
    "print(student_df)\n",
    "print(\"=============================\")\n",
    "print(\"篩選math大於80的資料集\")\n",
    "print(student_df[student_df[\"grades-chinese\"] > 70])\n",
    "print(\"=================================\")\n",
    "print(\"篩選name欄位'廖丁丁'\")\n",
    "print(student_df[student_df[\"name\"].isin([\"廖丁丁\"])])\n",
    "print(\"=================================\")\n",
    "print(\"篩選name欄位包含'小'\")\n",
    "print(student_df[student_df[\"name\"].str.contains(\"小\")])\n",
    "print(\"=================================\")\n",
    "print(\"英文成績-遞減排序\")\n",
    "print(student_df.sort_values([\"grades-english\"], ascending=False))"
   ]
  },
  {
   "cell_type": "code",
   "execution_count": 13,
   "id": "cb7cc367",
   "metadata": {},
   "outputs": [
    {
     "name": "stdout",
     "output_type": "stream",
     "text": [
      "=============================\n",
      "資料數量 16\n",
      "資料型態 (4, 4)\n",
      "資料索引 RangeIndex(start=0, stop=4, step=1)\n",
      "英文分數平均 71.25\n",
      "中文最高分 92\n",
      "  name               email  grades-chinese  grades-english  average\n",
      "0  王小郭       min@gmail.com              60              75     67.5\n",
      "1  張小華    hchang@gmail.com              77              60     68.5\n",
      "2  廖丁丁  laioding@gmail.com              92              80     86.0\n",
      "3  丁小光  hsulight@gmail.com              43              70     56.5\n"
     ]
    }
   ],
   "source": [
    "# 引入 pandas 套件，使用別名 pd 可以少打字\n",
    "import pandas as pd\n",
    "# 準備傳入 \n",
    "data = {\n",
    "    'name': ['王小郭', '張小華', '廖丁丁', '丁小光'],\n",
    "    'email': ['min@gmail.com', 'hchang@gmail.com', 'laioding@gmail.com', 'hsulight@gmail.com'],\n",
    "    'grades-chinese': [60, 77, 92, 43],\n",
    "    'grades-english': [75, 60, 80, 70]\n",
    "}\n",
    "# 建立 DataFrame 物件\n",
    "df = pd.DataFrame(data)\n",
    "print(\"=============================\")\n",
    "print(\"資料數量\",df.size)\n",
    "print(\"資料型態\",df.shape)\n",
    "print(\"資料索引\",df.index)\n",
    "print(\"英文分數平均\",df[\"grades-english\"].mean())\n",
    "print(\"中文最高分\",df[\"grades-chinese\"].max())\n",
    "df[\"average\"]=(df[\"grades-chinese\"]+df[\"grades-english\"])/2\n",
    "print(df)"
   ]
  },
  {
   "cell_type": "code",
   "execution_count": 15,
   "id": "23a9c180",
   "metadata": {},
   "outputs": [],
   "source": [
    "import pandas as pd\n",
    "data = {\n",
    "    'name': ['王小郭', '張小華', '廖丁丁', '丁小光'],\n",
    "    'grades-chinese': [60, 77, 92, 43],\n",
    "    'grades-english': [75, 60, 80, 70]\n",
    "}\n",
    "df = pd.DataFrame(data)\n",
    "df.to_csv('test2.csv', index=False, header = True, encoding=\"utf_8_sig\")"
   ]
  },
  {
   "cell_type": "code",
   "execution_count": null,
   "id": "91a08ea4",
   "metadata": {},
   "outputs": [],
   "source": []
  }
 ],
 "metadata": {
  "kernelspec": {
   "display_name": "Python 3",
   "language": "python",
   "name": "python3"
  },
  "language_info": {
   "codemirror_mode": {
    "name": "ipython",
    "version": 3
   },
   "file_extension": ".py",
   "mimetype": "text/x-python",
   "name": "python",
   "nbconvert_exporter": "python",
   "pygments_lexer": "ipython3",
   "version": "3.8.8"
  }
 },
 "nbformat": 4,
 "nbformat_minor": 5
}
